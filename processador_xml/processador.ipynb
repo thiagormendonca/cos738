{
 "cells": [
  {
   "cell_type": "code",
   "execution_count": 23,
   "metadata": {},
   "outputs": [],
   "source": [
    "import xml.dom.minidom as minidom\n",
    "import xml.sax as sax"
   ]
  },
  {
   "cell_type": "code",
   "execution_count": 24,
   "metadata": {},
   "outputs": [],
   "source": [
    "DOMTree = minidom.parse(\"cf79.xml\")"
   ]
  },
  {
   "cell_type": "code",
   "execution_count": 25,
   "metadata": {},
   "outputs": [],
   "source": [
    "cites = DOMTree.getElementsByTagName(\"CITE\")"
   ]
  },
  {
   "cell_type": "code",
   "execution_count": 26,
   "metadata": {},
   "outputs": [],
   "source": [
    "authors = [c.getAttribute(\"author\") for c in cites]"
   ]
  },
  {
   "cell_type": "code",
   "execution_count": 27,
   "metadata": {},
   "outputs": [],
   "source": [
    "with open(\"autores.xml\", \"w\") as f:\n",
    "    f.write(\"\\n\".join(authors))"
   ]
  },
  {
   "cell_type": "code",
   "execution_count": 28,
   "metadata": {},
   "outputs": [],
   "source": [
    "f = open(\"titulo.xml\", \"w\")"
   ]
  },
  {
   "cell_type": "code",
   "execution_count": 29,
   "metadata": {},
   "outputs": [],
   "source": [
    "class TitleHandler(sax.ContentHandler):\n",
    "    def __init__(self):\n",
    "        self.data = {}\n",
    "\n",
    "    def startElement(self, tag, attributes):\n",
    "        self.data[tag] = ''\n",
    "        self.current_tag = tag\n",
    "\n",
    "    def endElement(self, tag):\n",
    "        if tag == \"TITLE\":\n",
    "            f.write(f\"{self.data[tag]}\\n\")\n",
    "\n",
    "    def characters(self, content):\n",
    "        self.data[self.current_tag] += content"
   ]
  },
  {
   "cell_type": "code",
   "execution_count": 30,
   "metadata": {},
   "outputs": [],
   "source": [
    "parser = sax.make_parser()\n",
    "parser.setContentHandler(TitleHandler())\n",
    "parser.parse('cf79.xml')"
   ]
  }
 ],
 "metadata": {
  "kernelspec": {
   "display_name": "Python 3",
   "language": "python",
   "name": "python3"
  },
  "language_info": {
   "codemirror_mode": {
    "name": "ipython",
    "version": 3
   },
   "file_extension": ".py",
   "mimetype": "text/x-python",
   "name": "python",
   "nbconvert_exporter": "python",
   "pygments_lexer": "ipython3",
   "version": "3.9.6"
  },
  "orig_nbformat": 4
 },
 "nbformat": 4,
 "nbformat_minor": 2
}
